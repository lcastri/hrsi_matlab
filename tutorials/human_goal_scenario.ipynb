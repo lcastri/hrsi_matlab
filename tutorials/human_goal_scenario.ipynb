{
 "cells": [
  {
   "cell_type": "markdown",
   "id": "8babc723",
   "metadata": {},
   "source": [
    "# HUMAN-GOAL scenario"
   ]
  },
  {
   "cell_type": "code",
   "execution_count": 51,
   "id": "71d2058f",
   "metadata": {},
   "outputs": [],
   "source": [
    "clear all\n",
    "close all\n",
    "clc"
   ]
  },
  {
   "cell_type": "markdown",
   "id": "ff511f00",
   "metadata": {},
   "source": [
    "## 1 - Scenario definition"
   ]
  },
  {
   "cell_type": "markdown",
   "id": "5c7a20d0",
   "metadata": {},
   "source": [
    "#### 1.1 - Add folders to search path"
   ]
  },
  {
   "cell_type": "code",
   "execution_count": 52,
   "id": "91f01517",
   "metadata": {},
   "outputs": [],
   "source": [
    "currentFolder = pwd;\n",
    "currentFolder_splitted = string(strsplit(currentFolder, '/'));\n",
    "projectFolder_index = find(strcmp(currentFolder_splitted, 'hrsi'));\n",
    "env_path = strjoin(currentFolder_splitted(1, 1:projectFolder_index), '/');\n",
    "addpath(genpath(env_path + '/utilities'))\n",
    "addpath(genpath(env_path + '/classes'))"
   ]
  },
  {
   "cell_type": "markdown",
   "id": "f96c856e",
   "metadata": {},
   "source": [
    "#### 1.2 - Artificial potential field parametes definition\n",
    "In this case, we define just the attractive gain $K_a$."
   ]
  },
  {
   "cell_type": "code",
   "execution_count": 53,
   "id": "05e1c12a",
   "metadata": {},
   "outputs": [],
   "source": [
    "Ka = 2;"
   ]
  },
  {
   "cell_type": "markdown",
   "id": "c5a5cbcb",
   "metadata": {},
   "source": [
    "#### 1.3 - Simulation parametes definition"
   ]
  },
  {
   "cell_type": "code",
   "execution_count": 54,
   "id": "54049332",
   "metadata": {},
   "outputs": [],
   "source": [
    "DT = 0.1; % delta time\n",
    "simulation_time = 150;\n",
    "tout = 0 : DT : simulation_time;\n",
    "dist_thres = 0.01; % distance threshold between moving agent and goal. \n",
    "                   % if distance < 0.01 then the goal has been reached"
   ]
  },
  {
   "cell_type": "markdown",
   "id": "c2fc2ccf",
   "metadata": {},
   "source": [
    "#### 1.4 - Simulation parametes definition [OPTIONAL]"
   ]
  },
  {
   "cell_type": "code",
   "execution_count": 55,
   "id": "6daf6218",
   "metadata": {},
   "outputs": [],
   "source": [
    "N = {};\n",
    "\n",
    "%% noise theta\n",
    "Noise_theta = Noise(tout, \"Noise_theta\", 0, 0.03);\n",
    "N{1,1} = Noise_theta;\n",
    "\n",
    "%% noise D\n",
    "Noise_D = Noise(tout, \"Noise_D\", 0, 0.001);\n",
    "N{2,1} = Noise_D;\n",
    "\n",
    "%% noise V\n",
    "Noise_V = Noise(tout, \"Noise_V\", 0, 0.01);\n",
    "N{3,1} = Noise_V;"
   ]
  },
  {
   "cell_type": "markdown",
   "id": "2070b141",
   "metadata": {},
   "source": [
    "#### 1.5 - Goals definition\n",
    "goal position defined as static agent by creating an instance of Agent.\n",
    "- param id: (integer) number associated to this agent\n",
    "- param color: (char) color associated to this agent (example 'k', 'r')\n",
    "- param Ka: (float) attractive gain\n",
    "- param Kr: (float) repulsive gain\n",
    "- param eta_0: (float) minimum distance from obstacles\n",
    "- param x: (float) initial pos-x\n",
    "- param y: (float) initial pos-y\n",
    "- param theta: (float) initial orientation\n",
    "- param tout: (array) time vector\n",
    "- param rep_force_type: (enum) example REPULSIVE, VORTEX"
   ]
  },
  {
   "cell_type": "code",
   "execution_count": 56,
   "id": "32ee63cb",
   "metadata": {},
   "outputs": [],
   "source": [
    "G = {};\n",
    "g1 = Agent(1, 'k', Ka, 0, 0, 1, 4, 0, tout, 0);\n",
    "G{1,1} = g1;\n",
    "\n",
    "g2 = Agent(2, 'k', Ka, 0, 0, -1, -4, 0, tout, 0);\n",
    "G{2,1} = g2;\n",
    "\n",
    "g3 = Agent(3, 'k', Ka, 0, 0, 9.4, 4.2, 0, tout, 0);\n",
    "G{3,1} = g3;"
   ]
  },
  {
   "cell_type": "markdown",
   "id": "1449bcb4",
   "metadata": {},
   "source": [
    "#### 1.6 - Moving agent parameters definition"
   ]
  },
  {
   "cell_type": "code",
   "execution_count": 57,
   "id": "344c16ad",
   "metadata": {},
   "outputs": [],
   "source": [
    "Kv = 0.2; % gain linear velocity\n",
    "Kw = 3; % gain angular velocity\n",
    "L = 1.25; % length orientation arrow (graph)\n",
    "sat_op = true; % linear velocity saturation option\n",
    "max_v = 1.75; % max linear velocity\n",
    "task_op = true; % task option\n",
    "max_t = 15; % max task duration [s]"
   ]
  },
  {
   "cell_type": "markdown",
   "id": "a0bf9dfe",
   "metadata": {},
   "source": [
    "#### 1.7 - Moving agent definition\n",
    "human defined as moving agent by creating an instance of Unicycle.\n",
    "  - param id: (integer) number associated to this agent\n",
    "  - param color: (char) color associated to this agent (example 'k', 'r')\n",
    "  - param Ka: (float) attractive gain\n",
    "  - param Kr: (float) repulsive gain\n",
    "  - param eta_0: (float) minimum distance from obstacles\n",
    "  - param x: (float) initial pos-x\n",
    "  - param y: (float) initial pos-y\n",
    "  - param theta: (float) initial orientation\n",
    "  - param tout: (array) time vector\n",
    "  - param n_agent: (int) number of agent in the scenario\n",
    "  - param L: (float) length orientation arrow\n",
    "  - param sat_op: (bool) velocity saturation option\n",
    "  - param max_v: (float) max velocity (active only if sat_op = True)\n",
    "  - param task_op: (bool) task option\n",
    "  - param Kv: (float) linear velocity gain\n",
    "  - param Kw: (float) angular velocity gain\n",
    "  \n",
    "In this case, we define a unicycle with initial position $g_1$ and initial orientation $\\theta = -\\frac{pi}{2}$"
   ]
  },
  {
   "cell_type": "code",
   "execution_count": 58,
   "id": "91440735",
   "metadata": {},
   "outputs": [],
   "source": [
    "n_agent = 4; % (3 static agent + 1 unicycle) \n",
    "U = {};\n",
    "u1 = Unicycle(4, 'r', 0, 0, 0, g1.x(1), g1.y(1), -pi/2, tout, 0, n_agent, L, sat_op, max_v, task_op, Kv, Kw);\n",
    "U{1,1} = u1;"
   ]
  },
  {
   "cell_type": "markdown",
   "id": "7d9a2dde",
   "metadata": {},
   "source": [
    "set $g_1$ as goal for agent $u_1$ at $t = 1$"
   ]
  },
  {
   "cell_type": "code",
   "execution_count": 59,
   "id": "cda583be",
   "metadata": {},
   "outputs": [],
   "source": [
    "u1.set_goal(g1, 1)"
   ]
  },
  {
   "cell_type": "markdown",
   "id": "c2c5f350",
   "metadata": {},
   "source": [
    "## 2 - Data struct definition\n",
    "Here, we define the data to retrieve from the simulation"
   ]
  },
  {
   "cell_type": "code",
   "execution_count": 60,
   "id": "e4103056",
   "metadata": {},
   "outputs": [],
   "source": [
    "data{1,1}.name = 'theta_g';\n",
    "data{2,1}.name = 'd_g';\n",
    "data{3,1}.name = 'v';"
   ]
  },
  {
   "cell_type": "markdown",
   "id": "f1fe03f4",
   "metadata": {},
   "source": [
    "## 3 - System\n",
    "Here, we define how the system evolves."
   ]
  },
  {
   "cell_type": "code",
   "execution_count": 61,
   "id": "24f2f30b",
   "metadata": {},
   "outputs": [],
   "source": [
    "% time evolution\n",
    "for t = 2 : length(tout)\n",
    "    \n",
    "    for i = 1 : length(U)\n",
    "        % goal changing handling\n",
    "        U{i}.g_changed(t) = ~U{i}.g_changed(t-1) && U{i}.d_a(t-1, U{i}.g_seq(t-1)) <= dist_thres;\n",
    "        current_goal = U{i}.g_seq(t-1);\n",
    "        if U{i}.g_changed(t)\n",
    "            if current_goal + 1 <= length(G)\n",
    "                current_goal = current_goal + 1;\n",
    "            else\n",
    "                current_goal = 1;\n",
    "            end\n",
    "            U{i}.task = t + randi(max_t/DT);\n",
    "        end\n",
    "        % set of the goal at each time step\n",
    "        U{i}.set_goal(G{current_goal}, t);\n",
    "        \n",
    "        % new state for agent U{i}\n",
    "        U{i}.compute_next_state(t, DT)\n",
    "    end\n",
    "    \n",
    "    for i = 1 : length(U)\n",
    "        % goal measurements (angle and distance)\n",
    "        U{i}.bearing_g(t, Noise_theta.values(t))\n",
    "        U{i}.range_g(t, Noise_D.values(t))\n",
    "\n",
    "        % new velocity inputs (linear and angular)\n",
    "        [Ft, gFt] = U{i}.total_force_field(t);\n",
    "        U{i}.compute_next_inputs(t, Ft, gFt, Noise_V.values(t), 0)\n",
    "\n",
    "    end\n",
    "\n",
    "    % data handling\n",
    "    data{1,1}.data(t,1) = wrapTo2Pi(U{1}.theta_a(t, U{1}.g_seq(t)));\n",
    "    data{2,1}.data(t,1) = U{1}.d_a(t, U{1}.g_seq(t));\n",
    "    data{3,1}.data(t,1) = abs(U{1}.v(t));\n",
    "end"
   ]
  },
  {
   "cell_type": "markdown",
   "id": "c962a9e9",
   "metadata": {},
   "source": [
    "## 4 - Graphs generation"
   ]
  },
  {
   "cell_type": "code",
   "execution_count": 62,
   "id": "65e7a9d3",
   "metadata": {},
   "outputs": [
    {
     "data": {
      "image/png": "[encoded data removed]",
      "text/plain": [
       "<IPython.core.display.Image object>"
      ]
     },
     "metadata": {},
     "output_type": "display_data"
    }
   ],
   "source": [
    "generate_graph(data)"
   ]
  },
  {
   "cell_type": "markdown",
   "id": "49dd8d7c",
   "metadata": {},
   "source": [
    "## 5 - Save data\n",
    "Create \"data_folder\" (if it does not exist) and save data.mat, data.csv and README.txt files"
   ]
  },
  {
   "cell_type": "code",
   "execution_count": 63,
   "id": "6e1bba03",
   "metadata": {},
   "outputs": [],
   "source": [
    "FileName = \"data_folder\";\n",
    "        \n",
    "if ~exist(FileName, 'dir')\n",
    "    mkdir(FileName)\n",
    "end\n",
    "%% save .mat\n",
    "save(FileName + '/data')\n",
    "        \n",
    "%% save .csv\n",
    "save_csv(FileName, data);\n",
    "\n",
    "%% README.txt creation\n",
    "create_readme;"
   ]
  },
  {
   "cell_type": "markdown",
   "id": "a77657cc",
   "metadata": {},
   "source": [
    "## 5 - Animation"
   ]
  },
  {
   "cell_type": "markdown",
   "id": "0beb7fe4",
   "metadata": {},
   "source": [
    "#### 5.1 - Environment definition\n",
    "axis and bundaries definition for animation"
   ]
  },
  {
   "cell_type": "code",
   "execution_count": 64,
   "id": "1dda0533",
   "metadata": {},
   "outputs": [],
   "source": [
    "axis_def = [-10, 10, -10, 10];\n",
    "\n",
    "ul = [-9.4 4.2];\n",
    "ur = [9.4 4.2];\n",
    "br = [9.4 -4.2];\n",
    "bl = [-9.4 -4.2];\n",
    "\n",
    "boundaries = [ul; ur; br; bl; ul];    "
   ]
  },
  {
   "cell_type": "markdown",
   "id": "3101a81c",
   "metadata": {},
   "source": [
    "#### 5.2 - Plot animation"
   ]
  },
  {
   "cell_type": "code",
   "execution_count": 66,
   "id": "ab859eb0",
   "metadata": {},
   "outputs": [],
   "source": [
    "%step = 1; % change to speed up the video\n",
    "\n",
    "%for t = 1 : step : length(tout)\n",
    "%    plot_situation(false, 0, boundaries, [G;U], t, axis_def)\n",
    "%end"
   ]
  },
  {
   "cell_type": "markdown",
   "id": "43e89ee8",
   "metadata": {},
   "source": [
    "![ChessUrl](https://raw.githubusercontent.com/lcastri/hrsi/master/img/human_goal_scenario.gif)"
   ]
  }
 ],
 "metadata": {
  "kernelspec": {
   "display_name": "Matlab",
   "language": "matlab",
   "name": "matlab"
  },
  "language_info": {
   "codemirror_mode": "octave",
   "file_extension": ".m",
   "help_links": [
    {
     "text": "MetaKernel Magics",
     "url": "https://metakernel.readthedocs.io/en/latest/source/README.html"
    }
   ],
   "mimetype": "text/x-octave",
   "name": "matlab",
   "version": "0.16.11"
  }
 },
 "nbformat": 4,
 "nbformat_minor": 5
}
